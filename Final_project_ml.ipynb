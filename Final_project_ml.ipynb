{
 "cells": [
  {
   "cell_type": "code",
   "execution_count": null,
   "id": "6cbc1932",
   "metadata": {},
   "outputs": [],
   "source": [
    "gg\n"
   ]
  },
  {
   "cell_type": "code",
   "execution_count": null,
   "id": "5647cdcf",
   "metadata": {},
   "outputs": [],
   "source": []
  }
 ],
 "metadata": {
  "language_info": {
   "name": "python"
  }
 },
 "nbformat": 4,
 "nbformat_minor": 5
}
